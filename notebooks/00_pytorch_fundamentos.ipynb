{
  "nbformat": 4,
  "nbformat_minor": 0,
  "metadata": {
    "colab": {
      "provenance": [],
      "gpuType": "T4"
    },
    "kernelspec": {
      "name": "python3",
      "display_name": "Python 3"
    },
    "language_info": {
      "name": "python"
    },
    "accelerator": "GPU"
  },
  "cells": [
    {
      "cell_type": "markdown",
      "source": [
        "# Neste notebook, vamos cobrir alguns dos conceitos mais fundamentais de tensores usando PyTorch\n",
        "\n",
        "Mais especificamente, vamos abordar:\n",
        "* Introdução aos tensores\n",
        "* Obtendo informações de tensores\n",
        "* Manipulando tensores\n",
        "* Tensores e Numpy\n",
        "* Usando `@torch.jit.script` (uma maneira de acelerar suas funções Python regulares)\n",
        "* Usando GPUs com PyTorch (ou TPUs)\n",
        "* Exercícios para você tentar\n",
        "\n",
        "## Introdução aos Tensores\n",
        "\n",
        "Os tensores são a estrutura de dados fundamental no PyTorch. Eles são semelhantes a arrays do NumPy, mas podem ser processados em GPUs.\n",
        "\n",
        "Documentação sobre [tensores pytorch](https://pytorch.org/tutorials/beginner/introyt/tensors_deeper_tutorial.html).\n",
        "\n",
        "\n",
        "[![](https://markdown-videos-api.jorgenkh.no/youtube/r7QDUPb2dCM)](https://youtu.be/r7QDUPb2dCM)\n"
      ],
      "metadata": {
        "id": "TFkiBtEM5497"
      }
    },
    {
      "cell_type": "code",
      "execution_count": null,
      "metadata": {
        "colab": {
          "base_uri": "https://localhost:8080/"
        },
        "id": "5d3qoB-w5oPE",
        "outputId": "d73f0469-9501-4875-c31f-7bc8d3c9c9a4"
      },
      "outputs": [
        {
          "output_type": "stream",
          "name": "stdout",
          "text": [
            "2.3.0+cu121\n"
          ]
        }
      ],
      "source": [
        "# Import Pytorch\n",
        "import torch\n",
        "import math\n",
        "\n",
        "print(torch.__version__)"
      ]
    },
    {
      "cell_type": "code",
      "source": [
        "x = torch.empty(3, 4)\n",
        "print(type(x))\n",
        "print(x)"
      ],
      "metadata": {
        "colab": {
          "base_uri": "https://localhost:8080/"
        },
        "id": "0fIDOoa953ji",
        "outputId": "6f94e836-98b0-4b1c-ec8a-3ad0c2ffaf37"
      },
      "execution_count": null,
      "outputs": [
        {
          "output_type": "stream",
          "name": "stdout",
          "text": [
            "<class 'torch.Tensor'>\n",
            "tensor([[ 1.5863e-42,  7.5878e+31, -7.9544e+23,  3.2739e-41],\n",
            "        [ 2.2421e-44,  8.8888e-15, -7.9543e+23,  3.2739e-41],\n",
            "        [ 1.5877e-42,  3.7391e-14, -7.9544e+23,  3.2739e-41]])\n"
          ]
        }
      ]
    },
    {
      "cell_type": "markdown",
      "source": [
        "\n",
        "🔑 **Nota**\n",
        "*   Às vezes você verá um tensor unidimensional chamado vetor.\n",
        "*   Da mesma forma, um tensor bidimensional é frequentemente referido como uma matriz.\n",
        "* Qualquer coisa com mais de duas dimensões geralmente é chamada apenas de tensor."
      ],
      "metadata": {
        "id": "DjHEdQW87mQ5"
      }
    },
    {
      "cell_type": "code",
      "source": [
        "# Outras formas de se iniciar um tensor no pytorch\n",
        "\n",
        "zeros = torch.zeros(2, 3)\n",
        "print(zeros)\n",
        "\n",
        "ones = torch.ones(2, 3)\n",
        "print(ones)\n",
        "\n",
        "torch.manual_seed(1729)\n",
        "random = torch.rand(2, 3)\n",
        "print(random)"
      ],
      "metadata": {
        "colab": {
          "base_uri": "https://localhost:8080/"
        },
        "id": "gsdX2ntd8KtW",
        "outputId": "3158e281-4996-4bc9-e13f-847c79e81ef2"
      },
      "execution_count": null,
      "outputs": [
        {
          "output_type": "stream",
          "name": "stdout",
          "text": [
            "tensor([[0., 0., 0.],\n",
            "        [0., 0., 0.]])\n",
            "tensor([[1., 1., 1.],\n",
            "        [1., 1., 1.]])\n",
            "tensor([[0.3126, 0.3791, 0.3087],\n",
            "        [0.0736, 0.4216, 0.0691]])\n"
          ]
        }
      ]
    },
    {
      "cell_type": "markdown",
      "source": [
        "🔑 **Nota**\n",
        "\n",
        "Ao criar um tensor aleatório, você pode ter notado a chamada para torch.manual_seed() imediatamente antes. Inicializar tensores com valores aleatórios, como os pesos de um modelo de aprendizado, é uma prática comum. No entanto, existem situações - especialmente em ambientes de pesquisa - onde você precisa garantir que os resultados sejam reproduzíveis. Para alcançar essa reprodutibilidade, você deve definir manualmente a semente do gerador de números aleatórios. Vamos examinar isso mais detalhadamente:"
      ],
      "metadata": {
        "id": "hPrH5pqM89fP"
      }
    },
    {
      "cell_type": "code",
      "source": [
        "torch.manual_seed(1729)\n",
        "random1 = torch.rand(2, 3)\n",
        "print(random1)\n",
        "\n",
        "random2 = torch.rand(2, 3)\n",
        "print(random2)\n",
        "\n",
        "torch.manual_seed(1729)\n",
        "random3 = torch.rand(2, 3)\n",
        "print(random3)\n",
        "\n",
        "random4 = torch.rand(2, 3)\n",
        "print(random4)"
      ],
      "metadata": {
        "colab": {
          "base_uri": "https://localhost:8080/"
        },
        "id": "K8qBQUjb8mUR",
        "outputId": "6e01f0ae-3bd8-4d44-bfa7-36bc129d0577"
      },
      "execution_count": null,
      "outputs": [
        {
          "output_type": "stream",
          "name": "stdout",
          "text": [
            "tensor([[0.3126, 0.3791, 0.3087],\n",
            "        [0.0736, 0.4216, 0.0691]])\n",
            "tensor([[0.2332, 0.4047, 0.2162],\n",
            "        [0.9927, 0.4128, 0.5938]])\n",
            "tensor([[0.3126, 0.3791, 0.3087],\n",
            "        [0.0736, 0.4216, 0.0691]])\n",
            "tensor([[0.2332, 0.4047, 0.2162],\n",
            "        [0.9927, 0.4128, 0.5938]])\n"
          ]
        }
      ]
    },
    {
      "cell_type": "code",
      "source": [
        "# outra forme de criar tensores é os passando diretamente\n",
        "\n",
        "some_constants = torch.tensor([[3.1415926, 2.71828], [1.61803, 0.0072897]])\n",
        "print(some_constants)\n",
        "\n",
        "some_integers = torch.tensor((2, 3, 5, 7, 11, 13, 17, 19))\n",
        "print(some_integers)\n",
        "\n",
        "more_integers = torch.tensor(((2, 4, 6), [3, 6, 9]))\n",
        "print(more_integers)"
      ],
      "metadata": {
        "colab": {
          "base_uri": "https://localhost:8080/"
        },
        "id": "QbkHj4Uy-Rlm",
        "outputId": "2994e2a7-3225-4584-dab2-22392cb7e840"
      },
      "execution_count": null,
      "outputs": [
        {
          "output_type": "stream",
          "name": "stdout",
          "text": [
            "tensor([[3.1416, 2.7183],\n",
            "        [1.6180, 0.0073]])\n",
            "tensor([ 2,  3,  5,  7, 11, 13, 17, 19])\n",
            "tensor([[2, 4, 6],\n",
            "        [3, 6, 9]])\n"
          ]
        }
      ]
    },
    {
      "cell_type": "markdown",
      "source": [
        "### Tamanho ou shapes dos tensores"
      ],
      "metadata": {
        "id": "fnDVqT9h9FwK"
      }
    },
    {
      "cell_type": "code",
      "source": [
        "x = torch.empty(2, 2, 3)\n",
        "print(\"X empty:\")\n",
        "print(x.shape)\n",
        "print(x)\n",
        "\n",
        "print(\"X empty like:\")\n",
        "empty_like_x = torch.empty_like(x)\n",
        "print(empty_like_x.shape)\n",
        "print(empty_like_x)\n",
        "\n",
        "\n",
        "print(\"X zero like:\")\n",
        "\n",
        "zeros_like_x = torch.zeros_like(x)\n",
        "print(zeros_like_x.shape)\n",
        "print(zeros_like_x)\n",
        "\n",
        "print(\"X one like:\")\n",
        "ones_like_x = torch.ones_like(x)\n",
        "print(ones_like_x.shape)\n",
        "print(ones_like_x)\n",
        "\n",
        "\n",
        "print(\"X rand like:\")\n",
        "rand_like_x = torch.rand_like(x)\n",
        "print(rand_like_x.shape)\n",
        "print(rand_like_x)"
      ],
      "metadata": {
        "colab": {
          "base_uri": "https://localhost:8080/"
        },
        "id": "3jPC8X6l9DPt",
        "outputId": "4197239f-3562-4e71-c5a2-9bae4d8ff1f6"
      },
      "execution_count": null,
      "outputs": [
        {
          "output_type": "stream",
          "name": "stdout",
          "text": [
            "X empty:\n",
            "torch.Size([2, 2, 3])\n",
            "tensor([[[-9.2139e+23,  3.2739e-41, -3.4791e-23],\n",
            "         [ 4.4236e-41,  2.1707e-18,  7.0952e+22]],\n",
            "\n",
            "        [[ 1.7748e+28,  1.8176e+31,  7.2708e+31],\n",
            "         [ 5.0778e+31,  3.2608e-12,  1.7728e+28]]])\n",
            "X empty like:\n",
            "torch.Size([2, 2, 3])\n",
            "tensor([[[-3.4791e-23,  4.4236e-41, -9.1956e+23],\n",
            "         [ 3.2739e-41,  2.3710e+00,  4.4236e-41]],\n",
            "\n",
            "        [[ 0.0000e+00,  0.0000e+00,  0.0000e+00],\n",
            "         [ 0.0000e+00,  0.0000e+00,  0.0000e+00]]])\n",
            "X zero like:\n",
            "torch.Size([2, 2, 3])\n",
            "tensor([[[0., 0., 0.],\n",
            "         [0., 0., 0.]],\n",
            "\n",
            "        [[0., 0., 0.],\n",
            "         [0., 0., 0.]]])\n",
            "X one like:\n",
            "torch.Size([2, 2, 3])\n",
            "tensor([[[1., 1., 1.],\n",
            "         [1., 1., 1.]],\n",
            "\n",
            "        [[1., 1., 1.],\n",
            "         [1., 1., 1.]]])\n",
            "X rand like:\n",
            "torch.Size([2, 2, 3])\n",
            "tensor([[[0.2024, 0.5731, 0.7191],\n",
            "         [0.4067, 0.7301, 0.6276]],\n",
            "\n",
            "        [[0.7357, 0.0381, 0.2138],\n",
            "         [0.5395, 0.3686, 0.4007]]])\n"
          ]
        }
      ]
    },
    {
      "cell_type": "code",
      "source": [
        "x.shape, x.ndim"
      ],
      "metadata": {
        "colab": {
          "base_uri": "https://localhost:8080/"
        },
        "id": "np72cw2GAbKz",
        "outputId": "09f4229c-4526-47a5-e38c-296e2d77ab9c"
      },
      "execution_count": null,
      "outputs": [
        {
          "output_type": "execute_result",
          "data": {
            "text/plain": [
              "(torch.Size([2, 2, 3]), 3)"
            ]
          },
          "metadata": {},
          "execution_count": 31
        }
      ]
    },
    {
      "cell_type": "markdown",
      "source": [
        "### Data types"
      ],
      "metadata": {
        "id": "AXqjNTf1-nlC"
      }
    },
    {
      "cell_type": "code",
      "source": [
        "# podemos definir o tipo do dado dentro do tensor da seguinte forma\n",
        "\n",
        "a = torch.ones((2, 3), dtype=torch.int16)\n",
        "print(a)\n",
        "\n",
        "b = torch.rand((2, 3), dtype=torch.float64) * 20.\n",
        "print(b)\n",
        "\n",
        "c = b.to(torch.int32)\n",
        "print(c)"
      ],
      "metadata": {
        "colab": {
          "base_uri": "https://localhost:8080/"
        },
        "id": "b1AIp388-fxZ",
        "outputId": "98a41bac-30a9-4c72-bfff-02b569adc0c6"
      },
      "execution_count": null,
      "outputs": [
        {
          "output_type": "stream",
          "name": "stdout",
          "text": [
            "tensor([[1, 1, 1],\n",
            "        [1, 1, 1]], dtype=torch.int16)\n",
            "tensor([[15.5129,  1.7932, 13.2545],\n",
            "        [ 7.0529, 13.0737,  6.8375]], dtype=torch.float64)\n",
            "tensor([[15,  1, 13],\n",
            "        [ 7, 13,  6]], dtype=torch.int32)\n"
          ]
        }
      ]
    },
    {
      "cell_type": "markdown",
      "source": [
        "### Transformando Numpy Array em tensores"
      ],
      "metadata": {
        "id": "WSsOOZ9y-9I5"
      }
    },
    {
      "cell_type": "code",
      "source": [
        "import numpy as np\n",
        "\n",
        "numpy_A = np.arange(1, 25, dtype=np.int32)\n",
        "numpy_A"
      ],
      "metadata": {
        "colab": {
          "base_uri": "https://localhost:8080/"
        },
        "id": "TtyHB2fK_BPC",
        "outputId": "784ce3af-c2aa-4650-d137-a9010bcd598f"
      },
      "execution_count": null,
      "outputs": [
        {
          "output_type": "execute_result",
          "data": {
            "text/plain": [
              "array([ 1,  2,  3,  4,  5,  6,  7,  8,  9, 10, 11, 12, 13, 14, 15, 16, 17,\n",
              "       18, 19, 20, 21, 22, 23, 24], dtype=int32)"
            ]
          },
          "metadata": {},
          "execution_count": 17
        }
      ]
    },
    {
      "cell_type": "code",
      "source": [
        "A = torch.tensor(numpy_A)\n",
        "B = torch.tensor(numpy_A).reshape((2, 3, 4))\n",
        "A, B"
      ],
      "metadata": {
        "colab": {
          "base_uri": "https://localhost:8080/"
        },
        "id": "XKggIhE0_GZN",
        "outputId": "2da50de7-fe3f-4277-885a-38e52ce193ce"
      },
      "execution_count": null,
      "outputs": [
        {
          "output_type": "execute_result",
          "data": {
            "text/plain": [
              "(tensor([ 1,  2,  3,  4,  5,  6,  7,  8,  9, 10, 11, 12, 13, 14, 15, 16, 17, 18,\n",
              "         19, 20, 21, 22, 23, 24], dtype=torch.int32),\n",
              " tensor([[[ 1,  2,  3,  4],\n",
              "          [ 5,  6,  7,  8],\n",
              "          [ 9, 10, 11, 12]],\n",
              " \n",
              "         [[13, 14, 15, 16],\n",
              "          [17, 18, 19, 20],\n",
              "          [21, 22, 23, 24]]], dtype=torch.int32))"
            ]
          },
          "metadata": {},
          "execution_count": 33
        }
      ]
    },
    {
      "cell_type": "code",
      "source": [
        "A.shape, B.shape, A.ndim, B.ndim"
      ],
      "metadata": {
        "colab": {
          "base_uri": "https://localhost:8080/"
        },
        "id": "kg5wvYNGAmGA",
        "outputId": "11d15b52-90ff-4c7e-fb6c-bbef7e1ce01e"
      },
      "execution_count": null,
      "outputs": [
        {
          "output_type": "execute_result",
          "data": {
            "text/plain": [
              "(torch.Size([24]), torch.Size([2, 3, 4]), 1, 3)"
            ]
          },
          "metadata": {},
          "execution_count": 34
        }
      ]
    },
    {
      "cell_type": "markdown",
      "source": [
        "### Indexando os tensores"
      ],
      "metadata": {
        "id": "xnKXo_yt_Xwz"
      }
    },
    {
      "cell_type": "code",
      "source": [
        "rank_4_tensor = torch.zeros((2, 3, 4, 5))\n",
        "rank_4_tensor.shape, rank_4_tensor.ndim"
      ],
      "metadata": {
        "colab": {
          "base_uri": "https://localhost:8080/"
        },
        "id": "ybG0CDTL_ek3",
        "outputId": "0c60321e-3854-423b-f3ca-78cac7d6b737"
      },
      "execution_count": null,
      "outputs": [
        {
          "output_type": "execute_result",
          "data": {
            "text/plain": [
              "(torch.Size([2, 3, 4, 5]), 4)"
            ]
          },
          "metadata": {},
          "execution_count": 35
        }
      ]
    },
    {
      "cell_type": "code",
      "source": [
        "# pegando os dois primeiros elementos de cada dimensao\n",
        "\n",
        "rank_4_tensor[:2, :2, :2, :2], rank_4_tensor[:2, :2, :2, :2].shape"
      ],
      "metadata": {
        "colab": {
          "base_uri": "https://localhost:8080/"
        },
        "id": "BZSgeGCS_mvM",
        "outputId": "5bf5f967-1af0-4cb4-d66e-5edfd61c422a"
      },
      "execution_count": null,
      "outputs": [
        {
          "output_type": "execute_result",
          "data": {
            "text/plain": [
              "(tensor([[[[0., 0.],\n",
              "           [0., 0.]],\n",
              " \n",
              "          [[0., 0.],\n",
              "           [0., 0.]]],\n",
              " \n",
              " \n",
              "         [[[0., 0.],\n",
              "           [0., 0.]],\n",
              " \n",
              "          [[0., 0.],\n",
              "           [0., 0.]]]]),\n",
              " torch.Size([2, 2, 2, 2]))"
            ]
          },
          "metadata": {},
          "execution_count": 26
        }
      ]
    },
    {
      "cell_type": "code",
      "source": [
        "# Pegando o primeiro elemento de cada dimensao exceto a última\n",
        "\n",
        "rank_4_tensor[:1, :1, :1], rank_4_tensor[:1, :1, :1].shape"
      ],
      "metadata": {
        "colab": {
          "base_uri": "https://localhost:8080/"
        },
        "id": "iaaZVvSu_xNH",
        "outputId": "d8d2096a-a28a-4d25-8f00-9424606dbb4d"
      },
      "execution_count": null,
      "outputs": [
        {
          "output_type": "execute_result",
          "data": {
            "text/plain": [
              "(tensor([[[[0., 0., 0., 0., 0.]]]]), torch.Size([1, 1, 1, 5]))"
            ]
          },
          "metadata": {},
          "execution_count": 25
        }
      ]
    },
    {
      "cell_type": "code",
      "source": [
        "rank_4_tensor[:1, :1, :, :1], rank_4_tensor[:1, :1, :, :1].shape"
      ],
      "metadata": {
        "colab": {
          "base_uri": "https://localhost:8080/"
        },
        "id": "yGcSIQXC_6s9",
        "outputId": "6fe58bf5-b03a-4251-c7e2-bcb20322759d"
      },
      "execution_count": null,
      "outputs": [
        {
          "output_type": "execute_result",
          "data": {
            "text/plain": [
              "(tensor([[[[0.],\n",
              "           [0.],\n",
              "           [0.],\n",
              "           [0.]]]]),\n",
              " torch.Size([1, 1, 4, 1]))"
            ]
          },
          "metadata": {},
          "execution_count": 27
        }
      ]
    },
    {
      "cell_type": "code",
      "source": [
        "rank_2_tensor = torch.tensor([[10, 7],\n",
        "                             [3, 4]])\n",
        "rank_2_tensor.shape, rank_2_tensor.ndim"
      ],
      "metadata": {
        "colab": {
          "base_uri": "https://localhost:8080/"
        },
        "id": "FOzz7CshAOQr",
        "outputId": "318df4e9-4fb9-4bea-9101-f6b0e5ca135c"
      },
      "execution_count": null,
      "outputs": [
        {
          "output_type": "execute_result",
          "data": {
            "text/plain": [
              "(torch.Size([2, 2]), 2)"
            ]
          },
          "metadata": {},
          "execution_count": 30
        }
      ]
    },
    {
      "cell_type": "code",
      "source": [
        "# pegando o último elemento de cada linha\n",
        "rank_2_tensor[..., -1], rank_2_tensor[..., -1].shape"
      ],
      "metadata": {
        "colab": {
          "base_uri": "https://localhost:8080/"
        },
        "id": "xM-k2z4OAEfh",
        "outputId": "7c0b75fa-561b-4038-c5b1-4aa4a1540f71"
      },
      "execution_count": null,
      "outputs": [
        {
          "output_type": "execute_result",
          "data": {
            "text/plain": [
              "(tensor([7, 4]), torch.Size([2]))"
            ]
          },
          "metadata": {},
          "execution_count": 36
        }
      ]
    },
    {
      "cell_type": "code",
      "source": [
        "# adicionando mais uma dimensao ao tensor\n",
        "rank_3_tensor = rank_2_tensor[..., None]\n",
        "rank_3_tensor.shape, rank_3_tensor.ndim"
      ],
      "metadata": {
        "colab": {
          "base_uri": "https://localhost:8080/"
        },
        "id": "W08Md3R3A1Y6",
        "outputId": "d09d41c9-99b2-424d-a7ec-2a5f677df8de"
      },
      "execution_count": null,
      "outputs": [
        {
          "output_type": "execute_result",
          "data": {
            "text/plain": [
              "(torch.Size([2, 2, 1]), 3)"
            ]
          },
          "metadata": {},
          "execution_count": 38
        }
      ]
    },
    {
      "cell_type": "code",
      "source": [
        "# adicionando mais uma dimensao ao tensor\n",
        "rank_3_tensor = rank_2_tensor.unsqueeze(dim=2)\n",
        "rank_3_tensor.shape, rank_3_tensor.ndim"
      ],
      "metadata": {
        "colab": {
          "base_uri": "https://localhost:8080/"
        },
        "id": "iSCqLNaRBLIo",
        "outputId": "9a301e47-e037-487a-fe27-131870501bf1"
      },
      "execution_count": null,
      "outputs": [
        {
          "output_type": "execute_result",
          "data": {
            "text/plain": [
              "(torch.Size([2, 2, 1]), 3)"
            ]
          },
          "metadata": {},
          "execution_count": 41
        }
      ]
    },
    {
      "cell_type": "markdown",
      "source": [
        "### Operações básicas sobre tensores\n",
        "\n",
        "**Operações básicas**\n",
        "\n",
        "`+`, `-`, `*`, `/`"
      ],
      "metadata": {
        "id": "nNMHcoZ2-a73"
      }
    },
    {
      "cell_type": "code",
      "source": [
        "rank_2_tensor + 10"
      ],
      "metadata": {
        "colab": {
          "base_uri": "https://localhost:8080/"
        },
        "id": "8SQfm1wD92-6",
        "outputId": "6f770f48-2a6e-4186-b402-5e3a7db2d8fb"
      },
      "execution_count": null,
      "outputs": [
        {
          "output_type": "execute_result",
          "data": {
            "text/plain": [
              "tensor([[20, 17],\n",
              "        [13, 14]])"
            ]
          },
          "metadata": {},
          "execution_count": 44
        }
      ]
    },
    {
      "cell_type": "code",
      "source": [
        "rank_2_tensor - 10"
      ],
      "metadata": {
        "colab": {
          "base_uri": "https://localhost:8080/"
        },
        "id": "ZPCYQPVvBaBL",
        "outputId": "183603e6-4052-4729-c860-2ef2e93d5543"
      },
      "execution_count": null,
      "outputs": [
        {
          "output_type": "execute_result",
          "data": {
            "text/plain": [
              "tensor([[ 0, -3],\n",
              "        [-7, -6]])"
            ]
          },
          "metadata": {},
          "execution_count": 45
        }
      ]
    },
    {
      "cell_type": "code",
      "source": [
        "rank_2_tensor * 10"
      ],
      "metadata": {
        "colab": {
          "base_uri": "https://localhost:8080/"
        },
        "id": "oyENYptHBeGq",
        "outputId": "b229fdb2-45a2-4f06-f474-464bd50138fb"
      },
      "execution_count": null,
      "outputs": [
        {
          "output_type": "execute_result",
          "data": {
            "text/plain": [
              "tensor([[100,  70],\n",
              "        [ 30,  40]])"
            ]
          },
          "metadata": {},
          "execution_count": 46
        }
      ]
    },
    {
      "cell_type": "code",
      "source": [
        "rank_2_tensor / 10"
      ],
      "metadata": {
        "colab": {
          "base_uri": "https://localhost:8080/"
        },
        "id": "1ykSVndIBfWi",
        "outputId": "0fb5af50-87c1-4115-b4e3-0febc84878d5"
      },
      "execution_count": null,
      "outputs": [
        {
          "output_type": "execute_result",
          "data": {
            "text/plain": [
              "tensor([[1.0000, 0.7000],\n",
              "        [0.3000, 0.4000]])"
            ]
          },
          "metadata": {},
          "execution_count": 47
        }
      ]
    },
    {
      "cell_type": "code",
      "source": [
        "# usando bult-in\n",
        "torch.add(rank_2_tensor, 10)"
      ],
      "metadata": {
        "colab": {
          "base_uri": "https://localhost:8080/"
        },
        "id": "t28gbOybBgla",
        "outputId": "6067eea8-8252-4a77-de49-6f356981cdcb"
      },
      "execution_count": null,
      "outputs": [
        {
          "output_type": "execute_result",
          "data": {
            "text/plain": [
              "tensor([[20, 17],\n",
              "        [13, 14]])"
            ]
          },
          "metadata": {},
          "execution_count": 50
        }
      ]
    },
    {
      "cell_type": "code",
      "source": [
        "torch.subtract(rank_2_tensor, 10)"
      ],
      "metadata": {
        "colab": {
          "base_uri": "https://localhost:8080/"
        },
        "id": "zm3wp3DABwWE",
        "outputId": "d6abd6ea-7bf1-4ba9-8a8f-a29035f2ae7a"
      },
      "execution_count": null,
      "outputs": [
        {
          "output_type": "execute_result",
          "data": {
            "text/plain": [
              "tensor([[ 0, -3],\n",
              "        [-7, -6]])"
            ]
          },
          "metadata": {},
          "execution_count": 51
        }
      ]
    },
    {
      "cell_type": "code",
      "source": [
        "torch.multiply(rank_2_tensor, 10), torch.mul(rank_2_tensor, 10)"
      ],
      "metadata": {
        "colab": {
          "base_uri": "https://localhost:8080/"
        },
        "id": "j4FDB5H8B3O-",
        "outputId": "c97b2ced-01ed-43ad-9f73-166cb74a310e"
      },
      "execution_count": null,
      "outputs": [
        {
          "output_type": "execute_result",
          "data": {
            "text/plain": [
              "(tensor([[100,  70],\n",
              "         [ 30,  40]]),\n",
              " tensor([[100,  70],\n",
              "         [ 30,  40]]))"
            ]
          },
          "metadata": {},
          "execution_count": 52
        }
      ]
    },
    {
      "cell_type": "code",
      "source": [
        "torch.divide(rank_2_tensor, 10), torch.div(rank_2_tensor, 10)"
      ],
      "metadata": {
        "colab": {
          "base_uri": "https://localhost:8080/"
        },
        "id": "ag-fHOYFB78e",
        "outputId": "19b03c84-d22e-4275-a26c-e026edee2cd4"
      },
      "execution_count": null,
      "outputs": [
        {
          "output_type": "execute_result",
          "data": {
            "text/plain": [
              "(tensor([[1.0000, 0.7000],\n",
              "         [0.3000, 0.4000]]),\n",
              " tensor([[1.0000, 0.7000],\n",
              "         [0.3000, 0.4000]]))"
            ]
          },
          "metadata": {},
          "execution_count": 53
        }
      ]
    },
    {
      "cell_type": "markdown",
      "source": [
        "### Multiplicação de Matrizes\n",
        "\n",
        "No aprendizado de máquina, a multiplicação de matrizes é uma operação frequente com tensores.\n",
        "\n",
        "Para realizar a multiplicação de matrizes, nossos tensores devem obedecer a duas regras principais:\n",
        "\n",
        "1. As dimensões internas devem ser compatíveis.\n",
        "2. A matriz resultante terá o formato definido pelas dimensões externas.\n",
        "\n",
        "\n",
        "Para multiplicar duas matrizes $( A )$ e $( B )$, onde $( A )$ tem dimensões $( m \\times n )$ e $( B )$ tem dimensões $( n \\times p )$, o resultado será uma matriz $( C )$ com dimensões $( m \\times p )$.\n",
        "\n",
        "A fórmula para calcular o elemento $( C_{ij} )$ da matriz resultante $( C )$ é:\n",
        "\n",
        "$$\n",
        "C_{ij} = \\sum_{k=1}^{n} A_{ik} \\cdot B_{kj}\n",
        "$$\n",
        "Onde:\n",
        "- $( C_{ij} )$ é o elemento na i-ésima linha e j-ésima coluna da matriz resultante $( C )$.\n",
        "- $( A_{ik} )$ é o elemento na i-ésima linha e k-ésima coluna da matriz $( A )$.\n",
        "- $( B_{kj} )$ é o elemento na k-ésima linha e j-ésima coluna da matriz $( B )$.\n",
        "\n",
        "Em termos simples, para calcular cada elemento de $( C )$, você multiplica os elementos correspondentes da linha de $( A )$ pelos elementos da coluna de $( B )$ e soma os produtos."
      ],
      "metadata": {
        "id": "QCmsv-qtCPwn"
      }
    },
    {
      "cell_type": "code",
      "source": [
        "print(rank_2_tensor)\n",
        "torch.matmul(rank_2_tensor, rank_2_tensor)"
      ],
      "metadata": {
        "colab": {
          "base_uri": "https://localhost:8080/"
        },
        "id": "pAyi6K0SCTVN",
        "outputId": "00983a91-29e6-4104-e51f-9fb920aa53f4"
      },
      "execution_count": null,
      "outputs": [
        {
          "output_type": "stream",
          "name": "stdout",
          "text": [
            "tensor([[10,  7],\n",
            "        [ 3,  4]])\n"
          ]
        },
        {
          "output_type": "execute_result",
          "data": {
            "text/plain": [
              "tensor([[121,  98],\n",
              "        [ 42,  37]])"
            ]
          },
          "metadata": {},
          "execution_count": 54
        }
      ]
    },
    {
      "cell_type": "code",
      "source": [
        "rank_1_tensor = torch.tensor((1, 2))\n",
        "\n",
        "rank_1_tensor.shape, rank_1_tensor.ndim"
      ],
      "metadata": {
        "colab": {
          "base_uri": "https://localhost:8080/"
        },
        "id": "K_20Np9RECNX",
        "outputId": "e471c60a-7577-432a-d042-1f8310d8a71d"
      },
      "execution_count": null,
      "outputs": [
        {
          "output_type": "execute_result",
          "data": {
            "text/plain": [
              "(torch.Size([2]), 1)"
            ]
          },
          "metadata": {},
          "execution_count": 61
        }
      ]
    },
    {
      "cell_type": "code",
      "source": [
        "torch.matmul(rank_1_tensor, rank_2_tensor)"
      ],
      "metadata": {
        "colab": {
          "base_uri": "https://localhost:8080/"
        },
        "id": "mrMbefFqEErS",
        "outputId": "1df1be25-01b8-486d-ba1a-c0726eb58671"
      },
      "execution_count": null,
      "outputs": [
        {
          "output_type": "execute_result",
          "data": {
            "text/plain": [
              "tensor([16, 15])"
            ]
          },
          "metadata": {},
          "execution_count": 59
        }
      ]
    },
    {
      "cell_type": "code",
      "source": [
        "torch.matmul(rank_2_tensor, rank_1_tensor)"
      ],
      "metadata": {
        "colab": {
          "base_uri": "https://localhost:8080/"
        },
        "id": "-pwrRSaFEJiz",
        "outputId": "e3ecd10e-6ffa-4015-eedf-c2282fdde8a8"
      },
      "execution_count": null,
      "outputs": [
        {
          "output_type": "execute_result",
          "data": {
            "text/plain": [
              "tensor([24, 11])"
            ]
          },
          "metadata": {},
          "execution_count": 60
        }
      ]
    },
    {
      "cell_type": "code",
      "source": [
        "# alias for matmul @\n",
        "rank_2_tensor @ rank_1_tensor"
      ],
      "metadata": {
        "colab": {
          "base_uri": "https://localhost:8080/"
        },
        "id": "e0p1iGGnETMQ",
        "outputId": "aaa5eaeb-1569-4f8d-843e-ecc61e0a6c09"
      },
      "execution_count": null,
      "outputs": [
        {
          "output_type": "execute_result",
          "data": {
            "text/plain": [
              "tensor([24, 11])"
            ]
          },
          "metadata": {},
          "execution_count": 62
        }
      ]
    },
    {
      "cell_type": "code",
      "source": [
        "rank_3_tensor = torch.tensor([[1, 2],\n",
        "                             [4, 5],\n",
        "                             [7, 8]])\n",
        "rank_3_tensor.shape, rank_3_tensor.ndim"
      ],
      "metadata": {
        "colab": {
          "base_uri": "https://localhost:8080/"
        },
        "id": "q4sRMBrLEdAj",
        "outputId": "df8b0961-2073-4a93-9e98-bf2444c2a8c5"
      },
      "execution_count": null,
      "outputs": [
        {
          "output_type": "execute_result",
          "data": {
            "text/plain": [
              "(torch.Size([3, 2]), 2)"
            ]
          },
          "metadata": {},
          "execution_count": 63
        }
      ]
    },
    {
      "cell_type": "code",
      "source": [
        "rank_2_tensor @ rank_3_tensor"
      ],
      "metadata": {
        "colab": {
          "base_uri": "https://localhost:8080/",
          "height": 141
        },
        "id": "nZyi-P1rEk9q",
        "outputId": "8637f376-9b98-425d-f9ca-e23aba275843"
      },
      "execution_count": null,
      "outputs": [
        {
          "output_type": "error",
          "ename": "RuntimeError",
          "evalue": "mat1 and mat2 shapes cannot be multiplied (2x2 and 3x2)",
          "traceback": [
            "\u001b[0;31m---------------------------------------------------------------------------\u001b[0m",
            "\u001b[0;31mRuntimeError\u001b[0m                              Traceback (most recent call last)",
            "\u001b[0;32m<ipython-input-64-46d0f371351d>\u001b[0m in \u001b[0;36m<cell line: 1>\u001b[0;34m()\u001b[0m\n\u001b[0;32m----> 1\u001b[0;31m \u001b[0mrank_2_tensor\u001b[0m \u001b[0;34m@\u001b[0m \u001b[0mrank_3_tensor\u001b[0m\u001b[0;34m\u001b[0m\u001b[0;34m\u001b[0m\u001b[0m\n\u001b[0m",
            "\u001b[0;31mRuntimeError\u001b[0m: mat1 and mat2 shapes cannot be multiplied (2x2 and 3x2)"
          ]
        }
      ]
    },
    {
      "cell_type": "code",
      "source": [
        "rank_3_tensor @ rank_2_tensor"
      ],
      "metadata": {
        "colab": {
          "base_uri": "https://localhost:8080/"
        },
        "id": "OqzHm2G6EoDd",
        "outputId": "e7498c7e-ff82-49ce-a65f-14a6655b00d0"
      },
      "execution_count": null,
      "outputs": [
        {
          "output_type": "execute_result",
          "data": {
            "text/plain": [
              "tensor([[16, 15],\n",
              "        [55, 48],\n",
              "        [94, 81]])"
            ]
          },
          "metadata": {},
          "execution_count": 65
        }
      ]
    },
    {
      "cell_type": "markdown",
      "source": [
        "## Multiplicação Elemento a Elemento\n",
        "\n",
        "A multiplicação elemento a elemento (element-wise multiplication), também conhecida como multiplicação de Hadamard, é uma operação onde dois tensores de mesma forma são multiplicados entre si, multiplicando-se cada elemento correspondente de um tensor pelo elemento correspondente do outro tensor.\n",
        "\n",
        "### Definição\n",
        "\n",
        "Dadas duas matrizes $( A )$ e $( B )$ de mesma forma $( m \\times n )$, a multiplicação elemento a elemento produz uma nova matriz $( C )$, onde cada elemento $( C_{ij} )$ é dado por:\n",
        "\n",
        "$$ C_{ij} = A_{ij} \\cdot B_{ij} $$"
      ],
      "metadata": {
        "id": "_mc8uhgtDfV2"
      }
    },
    {
      "cell_type": "code",
      "source": [
        "# element wise\n",
        "\n"
      ],
      "metadata": {
        "id": "YEsaOGk-Easz"
      },
      "execution_count": null,
      "outputs": []
    },
    {
      "cell_type": "code",
      "source": [
        "rank_2_tensor * rank_2_tensor"
      ],
      "metadata": {
        "colab": {
          "base_uri": "https://localhost:8080/"
        },
        "id": "TJ7JYWTECboK",
        "outputId": "25ebc112-48ae-463b-facc-3955192ada9e"
      },
      "execution_count": null,
      "outputs": [
        {
          "output_type": "execute_result",
          "data": {
            "text/plain": [
              "tensor([[100,  49],\n",
              "        [  9,  16]])"
            ]
          },
          "metadata": {},
          "execution_count": 55
        }
      ]
    },
    {
      "cell_type": "code",
      "source": [
        "rank_1_tensor * rank_1_tensor"
      ],
      "metadata": {
        "colab": {
          "base_uri": "https://localhost:8080/"
        },
        "id": "BZcqf2y3DTGK",
        "outputId": "f9ba1990-60aa-45a5-ce5f-79f2780d78c3"
      },
      "execution_count": null,
      "outputs": [
        {
          "output_type": "execute_result",
          "data": {
            "text/plain": [
              "tensor([1, 4])"
            ]
          },
          "metadata": {},
          "execution_count": 56
        }
      ]
    },
    {
      "cell_type": "code",
      "source": [
        "rank_2_tensor * rank_1_tensor"
      ],
      "metadata": {
        "colab": {
          "base_uri": "https://localhost:8080/"
        },
        "id": "OsDK2wsyDyz4",
        "outputId": "c7d74c66-4166-4910-c2a1-7ee998fc34da"
      },
      "execution_count": null,
      "outputs": [
        {
          "output_type": "execute_result",
          "data": {
            "text/plain": [
              "tensor([[10, 14],\n",
              "        [ 3,  8]])"
            ]
          },
          "metadata": {},
          "execution_count": 57
        }
      ]
    },
    {
      "cell_type": "code",
      "source": [
        "rank_3_tensor * rank_2_tensor"
      ],
      "metadata": {
        "colab": {
          "base_uri": "https://localhost:8080/",
          "height": 141
        },
        "id": "QOLyLUf2D1C-",
        "outputId": "88e0c5ca-0251-4850-c47a-9a57cabe1851"
      },
      "execution_count": null,
      "outputs": [
        {
          "output_type": "error",
          "ename": "RuntimeError",
          "evalue": "The size of tensor a (3) must match the size of tensor b (2) at non-singleton dimension 0",
          "traceback": [
            "\u001b[0;31m---------------------------------------------------------------------------\u001b[0m",
            "\u001b[0;31mRuntimeError\u001b[0m                              Traceback (most recent call last)",
            "\u001b[0;32m<ipython-input-66-614eb5112b96>\u001b[0m in \u001b[0;36m<cell line: 1>\u001b[0;34m()\u001b[0m\n\u001b[0;32m----> 1\u001b[0;31m \u001b[0mrank_3_tensor\u001b[0m \u001b[0;34m*\u001b[0m \u001b[0mrank_2_tensor\u001b[0m\u001b[0;34m\u001b[0m\u001b[0;34m\u001b[0m\u001b[0m\n\u001b[0m",
            "\u001b[0;31mRuntimeError\u001b[0m: The size of tensor a (3) must match the size of tensor b (2) at non-singleton dimension 0"
          ]
        }
      ]
    },
    {
      "cell_type": "markdown",
      "source": [
        "### Agregando tensores\n",
        "\n",
        "Tensor agregador = condensando-os de vários valores para uma quantidade menor de valores"
      ],
      "metadata": {
        "id": "KcZ6Lze6E760"
      }
    },
    {
      "cell_type": "markdown",
      "source": [
        "Vejamos as seguintes formas de agregação:\n",
        "\n",
        "* Obtenha o mínimo\n",
        "* Obtenha o máximo\n",
        "* Obtenha a média de um tensor\n",
        "* Obtenha a soma de um tensor"
      ],
      "metadata": {
        "id": "JLg9Gi-fFCeG"
      }
    },
    {
      "cell_type": "code",
      "source": [
        "torch.manual_seed(100)\n",
        "\n",
        "tensor = torch.randint(size=(50, 100), low=0, high=100)\n",
        "tensor"
      ],
      "metadata": {
        "colab": {
          "base_uri": "https://localhost:8080/"
        },
        "id": "AlE-7L5sFGpW",
        "outputId": "c5cd494e-ee01-44e1-d709-a845af231acf"
      },
      "execution_count": null,
      "outputs": [
        {
          "output_type": "execute_result",
          "data": {
            "text/plain": [
              "tensor([[40, 12, 95,  ..., 94, 27, 42],\n",
              "        [95, 56, 51,  ..., 17, 55, 56],\n",
              "        [29,  8, 22,  ..., 10, 46, 27],\n",
              "        ...,\n",
              "        [47, 53, 15,  ..., 79, 97, 29],\n",
              "        [92, 71, 49,  ..., 97, 11, 71],\n",
              "        [78, 43,  3,  ..., 17, 42, 39]])"
            ]
          },
          "metadata": {},
          "execution_count": 69
        }
      ]
    },
    {
      "cell_type": "code",
      "source": [
        "# obter o menor valor de um tensor\n",
        "tensor.min(), torch.min(tensor)"
      ],
      "metadata": {
        "colab": {
          "base_uri": "https://localhost:8080/"
        },
        "id": "BUCW6fCWEt-n",
        "outputId": "8c98286a-eb7d-4084-9b33-56dbdd53516f"
      },
      "execution_count": null,
      "outputs": [
        {
          "output_type": "execute_result",
          "data": {
            "text/plain": [
              "(tensor(0), tensor(0))"
            ]
          },
          "metadata": {},
          "execution_count": 72
        }
      ]
    },
    {
      "cell_type": "code",
      "source": [
        "# obtendo o maior valor de um tensor\n",
        "tensor.max(), torch.max(tensor)"
      ],
      "metadata": {
        "colab": {
          "base_uri": "https://localhost:8080/"
        },
        "id": "f3v1-d5eFd1j",
        "outputId": "bad0b21c-3164-4b56-e8c2-5874a96b1b60"
      },
      "execution_count": null,
      "outputs": [
        {
          "output_type": "execute_result",
          "data": {
            "text/plain": [
              "(tensor(99), tensor(99))"
            ]
          },
          "metadata": {},
          "execution_count": 73
        }
      ]
    },
    {
      "cell_type": "code",
      "source": [
        "# obtendo a media do tensor\n",
        "tensor.mean(dtype=torch.float32), torch.mean(tensor,dtype=torch.float32)"
      ],
      "metadata": {
        "colab": {
          "base_uri": "https://localhost:8080/"
        },
        "id": "x35b8ssjFr72",
        "outputId": "3baa036a-387b-4ba9-a0b4-5b14a45db467"
      },
      "execution_count": null,
      "outputs": [
        {
          "output_type": "execute_result",
          "data": {
            "text/plain": [
              "(tensor(48.8068), tensor(48.8068))"
            ]
          },
          "metadata": {},
          "execution_count": 75
        }
      ]
    },
    {
      "cell_type": "code",
      "source": [
        "# obtendo a soma\n",
        "tensor.sum(), torch.sum(tensor)"
      ],
      "metadata": {
        "colab": {
          "base_uri": "https://localhost:8080/"
        },
        "id": "dxw9_ggUFvcZ",
        "outputId": "30f34616-1879-4931-d56d-71368ef56a49"
      },
      "execution_count": null,
      "outputs": [
        {
          "output_type": "execute_result",
          "data": {
            "text/plain": [
              "(tensor(244034), tensor(244034))"
            ]
          },
          "metadata": {},
          "execution_count": 76
        }
      ]
    },
    {
      "cell_type": "code",
      "source": [
        "# obtendo a soma sobre as linhas\n",
        "soma = tensor.sum(dim=0)\n",
        "soma, soma.shape"
      ],
      "metadata": {
        "colab": {
          "base_uri": "https://localhost:8080/"
        },
        "id": "GCzcLSJvF4gC",
        "outputId": "0b2dcb8d-7fac-4f64-913e-98d17b807d3f"
      },
      "execution_count": null,
      "outputs": [
        {
          "output_type": "execute_result",
          "data": {
            "text/plain": [
              "(tensor([2564, 2376, 2290, 2612, 2323, 2322, 2233, 2352, 2471, 2184, 2368, 2589,\n",
              "         2080, 2465, 2223, 2256, 2461, 2532, 2543, 2653, 2458, 2581, 2611, 2228,\n",
              "         2169, 2754, 2555, 2128, 2641, 2686, 2286, 2454, 2431, 2631, 2501, 2605,\n",
              "         2143, 2648, 2531, 2396, 2745, 2279, 2786, 2740, 2142, 2386, 2281, 2537,\n",
              "         2188, 2615, 2235, 2737, 2068, 2658, 2217, 2549, 2238, 2169, 2289, 2737,\n",
              "         2435, 2492, 2744, 2667, 2290, 2589, 2444, 2270, 2133, 2471, 2254, 2691,\n",
              "         2418, 2495, 2533, 2324, 2144, 2243, 2689, 2396, 2736, 2317, 2632, 2454,\n",
              "         2243, 2292, 2321, 2458, 2620, 2219, 2502, 2384, 2473, 2552, 2537, 2621,\n",
              "         2653, 2335, 2287, 2746]),\n",
              " torch.Size([100]))"
            ]
          },
          "metadata": {},
          "execution_count": 78
        }
      ]
    },
    {
      "cell_type": "code",
      "source": [
        "# obtendo a soma sobre as colunas\n",
        "soma = tensor.sum(dim=1)\n",
        "soma, soma.shape"
      ],
      "metadata": {
        "colab": {
          "base_uri": "https://localhost:8080/"
        },
        "id": "PIJK66rtGAQE",
        "outputId": "25fd6c66-7a4d-4385-863e-ff8979960fad"
      },
      "execution_count": null,
      "outputs": [
        {
          "output_type": "execute_result",
          "data": {
            "text/plain": [
              "(tensor([5152, 4616, 5146, 5064, 4935, 4938, 4721, 4814, 5191, 5701, 4791, 5129,\n",
              "         4404, 5292, 4704, 4914, 4545, 4822, 4965, 5295, 4892, 4951, 4525, 5059,\n",
              "         4725, 4963, 5108, 4586, 4767, 4904, 4861, 4880, 5088, 4637, 4421, 4883,\n",
              "         4809, 5197, 5014, 4905, 4912, 4682, 5205, 4671, 4580, 4711, 4516, 4803,\n",
              "         4979, 4661]),\n",
              " torch.Size([50]))"
            ]
          },
          "metadata": {},
          "execution_count": 79
        }
      ]
    },
    {
      "cell_type": "markdown",
      "source": [
        "🔑 **Nota**\n",
        "\n",
        "Existem muitas outras operações que podem ser realizadas com tensores no PyTorch. Devido a essa vasta gama de possibilidades, é fundamental estar familiarizado com a documentação oficial do PyTorch. A documentação fornece detalhes abrangentes sobre as funções e métodos disponíveis, exemplos de uso e melhores práticas para manipulação de tensores e construção de modelos de aprendizado de máquina."
      ],
      "metadata": {
        "id": "1RyzsqW5GYSb"
      }
    },
    {
      "cell_type": "code",
      "source": [
        "### verificando a gpu\n",
        "import torch\n",
        "torch.cuda.is_available()"
      ],
      "metadata": {
        "colab": {
          "base_uri": "https://localhost:8080/"
        },
        "id": "fI2tTW9JI2ib",
        "outputId": "a2543109-b4d9-4cce-8a81-3aa5fe131fb1"
      },
      "execution_count": null,
      "outputs": [
        {
          "output_type": "execute_result",
          "data": {
            "text/plain": [
              "True"
            ]
          },
          "metadata": {},
          "execution_count": 1
        }
      ]
    },
    {
      "cell_type": "code",
      "source": [
        "!nvidia-smi"
      ],
      "metadata": {
        "colab": {
          "base_uri": "https://localhost:8080/"
        },
        "id": "onQhNFLGJCOs",
        "outputId": "7a7a3e6f-2b4f-403d-de50-fdfd46629bce"
      },
      "execution_count": null,
      "outputs": [
        {
          "output_type": "stream",
          "name": "stdout",
          "text": [
            "Sun Jun 30 12:34:59 2024       \n",
            "+---------------------------------------------------------------------------------------+\n",
            "| NVIDIA-SMI 535.104.05             Driver Version: 535.104.05   CUDA Version: 12.2     |\n",
            "|-----------------------------------------+----------------------+----------------------+\n",
            "| GPU  Name                 Persistence-M | Bus-Id        Disp.A | Volatile Uncorr. ECC |\n",
            "| Fan  Temp   Perf          Pwr:Usage/Cap |         Memory-Usage | GPU-Util  Compute M. |\n",
            "|                                         |                      |               MIG M. |\n",
            "|=========================================+======================+======================|\n",
            "|   0  Tesla T4                       Off | 00000000:00:04.0 Off |                    0 |\n",
            "| N/A   50C    P8              12W /  70W |      3MiB / 15360MiB |      0%      Default |\n",
            "|                                         |                      |                  N/A |\n",
            "+-----------------------------------------+----------------------+----------------------+\n",
            "                                                                                         \n",
            "+---------------------------------------------------------------------------------------+\n",
            "| Processes:                                                                            |\n",
            "|  GPU   GI   CI        PID   Type   Process name                            GPU Memory |\n",
            "|        ID   ID                                                             Usage      |\n",
            "|=======================================================================================|\n",
            "|  No running processes found                                                           |\n",
            "+---------------------------------------------------------------------------------------+\n"
          ]
        }
      ]
    },
    {
      "cell_type": "markdown",
      "source": [
        "# Proxima aula\n",
        "\n",
        "Na proxima aula nos criaremos um VAEs do zero utilizando o pytorch. Os tópicos serão o seguinte\n",
        "\n",
        "1. Criando um dataloader\n",
        "2. Criando um autoencoder convencional\n",
        "3. Criando um variation autoencoder\n",
        "4. Analisando e comparando os resultados"
      ],
      "metadata": {
        "id": "SEQdQvs5GWLK"
      }
    },
    {
      "cell_type": "code",
      "source": [],
      "metadata": {
        "id": "v2-WTrhWGKBq"
      },
      "execution_count": null,
      "outputs": []
    }
  ]
}