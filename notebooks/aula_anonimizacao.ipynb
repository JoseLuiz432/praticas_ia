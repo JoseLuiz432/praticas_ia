{
 "cells": [
  {
   "cell_type": "markdown",
   "metadata": {},
   "source": [
    "# Anonimização de Dados Usando IA Generativa\n",
    "\n",
    "Nesta aula prática, vamos explorar como técnicas de IA generativa podem ser utilizadas para anonimização de dados. Vamos usar um conjunto de documentos fictícios em formato de conversação com um atendente virtual, contendo dados sensíveis, e aplicar técnicas para proteger a privacidade dos indivíduos, substituindo dados sensíveis por informações geradas pela IA.\n",
    "\n",
    "## Objetivos\n",
    "- Entender os conceitos básicos de anonimização de dados.\n",
    "- Utilizar modelos de linguagem para gerar substituições realistas de dados sensíveis.\n",
    "- Avaliar os resultados obtidos com IA generativa.\n"
   ]
  },
  {
   "cell_type": "markdown",
   "metadata": {},
   "source": [
    "## Criação e Carregamento dos Dados"
   ]
  },
  {
   "cell_type": "code",
   "execution_count": 1,
   "metadata": {},
   "outputs": [
    {
     "ename": "ModuleNotFoundError",
     "evalue": "No module named 'pandas'",
     "output_type": "error",
     "traceback": [
      "\u001b[1;31m---------------------------------------------------------------------------\u001b[0m",
      "\u001b[1;31mModuleNotFoundError\u001b[0m                       Traceback (most recent call last)",
      "Cell \u001b[1;32mIn[1], line 1\u001b[0m\n\u001b[1;32m----> 1\u001b[0m \u001b[38;5;28;01mimport\u001b[39;00m \u001b[38;5;21;01mpandas\u001b[39;00m \u001b[38;5;28;01mas\u001b[39;00m \u001b[38;5;21;01mpd\u001b[39;00m\n\u001b[0;32m      3\u001b[0m \u001b[38;5;66;03m# Criando um conjunto de documentos fictícios com conversas contendo dados sensíveis\u001b[39;00m\n\u001b[0;32m      4\u001b[0m data \u001b[38;5;241m=\u001b[39m {\n\u001b[0;32m      5\u001b[0m     \u001b[38;5;124m'\u001b[39m\u001b[38;5;124mdocument\u001b[39m\u001b[38;5;124m'\u001b[39m: [\n\u001b[0;32m      6\u001b[0m \u001b[38;5;250m        \u001b[39m\u001b[38;5;124;03m\"\"\"\u001b[39;00m\n\u001b[1;32m   (...)\u001b[0m\n\u001b[0;32m     65\u001b[0m     ]\n\u001b[0;32m     66\u001b[0m }\n",
      "\u001b[1;31mModuleNotFoundError\u001b[0m: No module named 'pandas'"
     ]
    }
   ],
   "source": [
    "import pandas as pd\n",
    "\n",
    "# Criando um conjunto de documentos fictícios com conversas contendo dados sensíveis\n",
    "data = {\n",
    "    'document': [\n",
    "        \"\"\"\n",
    "        Atendente: Olá! Como posso ajudar hoje?\n",
    "        Cliente: Olá, meu nome é Ana Silva. Preciso atualizar meu email. O atual é ana.silva@example.com e meu telefone é (11) 91234-5678.\n",
    "        Atendente: Claro, Ana! Qual é o seu CPF?\n",
    "        Cliente: É 123.456.789-00.\n",
    "        Atendente: Obrigado. Qual o novo email que você gostaria de cadastrar?\n",
    "        Cliente: Gostaria de mudar para ana.silva.novo@example.com.\n",
    "        Atendente: Certo, Ana. Seu email foi atualizado com sucesso.\n",
    "        \"\"\",\n",
    "        \"\"\"\n",
    "        Atendente: Bom dia! Em que posso ser útil?\n",
    "        Cliente: Bom dia! Sou o Bruno Souza. Preciso de ajuda com meu cadastro. Meu email é bruno.souza@example.com e meu telefone é (21) 98765-4321.\n",
    "        Atendente: Entendido, Bruno. Pode me fornecer seu CPF?\n",
    "        Cliente: Sim, é 987.654.321-00.\n",
    "        Atendente: Obrigado. Você gostaria de atualizar algum dado específico?\n",
    "        Cliente: Sim, gostaria de alterar meu endereço para Avenida Paulista, 1000, São Paulo.\n",
    "        Atendente: Endereço atualizado com sucesso.\n",
    "        \"\"\",\n",
    "        \"\"\"\n",
    "        Atendente: Oi! Como posso ajudar?\n",
    "        Cliente: Oi, aqui é a Carla Dias. Estou tentando atualizar meus dados. Meu email é carla.dias@example.com e meu telefone é (31) 99876-5432.\n",
    "        Atendente: Certo, Carla. Qual é o seu CPF?\n",
    "        Cliente: É 456.789.123-00.\n",
    "        Atendente: Obrigado. Qual dado você gostaria de atualizar?\n",
    "        Cliente: Preciso mudar meu telefone para (31) 91234-5678.\n",
    "        Atendente: Telefone atualizado com sucesso.\n",
    "        \"\"\",\n",
    "        \"\"\"\n",
    "        Atendente: Olá! Em que posso ajudar hoje?\n",
    "        Cliente: Olá, sou o Diego Lima. Quero alterar meu email para diego.lima@example.com e meu telefone para (41) 98765-1234.\n",
    "        Atendente: Sem problemas, Diego. Pode me informar seu CPF?\n",
    "        Cliente: Claro, é 789.123.456-00.\n",
    "        Atendente: Obrigado. Há mais alguma coisa que você gostaria de atualizar?\n",
    "        Cliente: Sim, meu endereço. Gostaria de mudar para Rua das Palmeiras, 789, Curitiba.\n",
    "        Atendente: Endereço atualizado com sucesso.\n",
    "        \"\"\",\n",
    "        \"\"\"\n",
    "        Atendente: Bom dia! Como posso ajudar?\n",
    "        Cliente: Bom dia! Meu nome é Eduarda Costa. Preciso atualizar meu cadastro. Meu email é eduarda.costa@example.com e meu telefone é (51) 91234-8765.\n",
    "        Atendente: Com certeza, Eduarda. Pode me passar seu CPF?\n",
    "        Cliente: É 321.654.987-00.\n",
    "        Atendente: Obrigado. Qual o novo telefone que você gostaria de cadastrar?\n",
    "        Cliente: Gostaria de mudar para (51) 98765-4321.\n",
    "        Atendente: Telefone atualizado com sucesso.\n",
    "        \"\"\",\n",
    "        \"\"\"\n",
    "        Atendente: Boa tarde, como posso ajudar?\n",
    "        Cliente: Boa tarde, sou João Almeida e gostaria de saber o saldo da minha conta. Meu CPF é 111.222.333-44.\n",
    "        Atendente: Claro, João. Seu saldo é de R$ 2.345,67. Posso ajudar com mais alguma coisa?\n",
    "        Cliente: Sim, gostaria de atualizar meu telefone para (13) 99887-6655.\n",
    "        Atendente: Telefone atualizado com sucesso.\n",
    "        \"\"\",\n",
    "        \"\"\"\n",
    "        Atendente: Olá! Em que posso ajudar hoje?\n",
    "        Cliente: Olá, sou a Maria Oliveira. Preciso recuperar meu acesso. Meu email é maria.oliveira@example.com.\n",
    "        Atendente: Entendido, Maria. Você pode me informar seu CPF para confirmar sua identidade?\n",
    "        Cliente: Claro, é 555.666.777-88.\n",
    "        Atendente: Obrigado. Um email de recuperação foi enviado para maria.oliveira@example.com.\n",
    "        \"\"\"\n",
    "    ]\n",
    "}\n",
    "\n",
    "df = pd.DataFrame(data)\n",
    "df.head()"
   ]
  },
  {
   "cell_type": "code",
   "execution_count": null,
   "metadata": {},
   "outputs": [],
   "source": []
  }
 ],
 "metadata": {
  "kernelspec": {
   "display_name": "Python 3",
   "language": "python",
   "name": "python3"
  },
  "language_info": {
   "codemirror_mode": {
    "name": "ipython",
    "version": 3
   },
   "file_extension": ".py",
   "mimetype": "text/x-python",
   "name": "python",
   "nbconvert_exporter": "python",
   "pygments_lexer": "ipython3",
   "version": "3.12.4"
  }
 },
 "nbformat": 4,
 "nbformat_minor": 2
}
