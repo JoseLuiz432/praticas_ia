{
 "cells": [
  {
   "cell_type": "markdown",
   "metadata": {},
   "source": [
    "# Aula prática - Integrando com a Assistant API\n",
    "\n",
    "## Tópicos da aula\n",
    "\n",
    "1. Acessando o Assistant API no DashBoard da plataforma da OpenAI.\n",
    "\n",
    "2. Como editar o Assistant pela plataforma.\n",
    "\n",
    "3. Criando um novo assistente passando um arquivo de dados (file_search).\n",
    "\n",
    "4. Criando um novo assistente passando um arquivo de dados (code_interpreter)"
   ]
  },
  {
   "cell_type": "code",
   "execution_count": null,
   "metadata": {},
   "outputs": [],
   "source": [
    "# Importando bibliotecas\n",
    "\n",
    "from openai import OpenAI\n",
    "import dotenv\n",
    "import os\n",
    "\n",
    "\n",
    "# Conectando com a API do OpenAI\n",
    "dotenv.load_dotenv()\n",
    "\n",
    "token = os.getenv(\"OPENAI_API_KEY\")\n",
    "client = OpenAI(api_key=token)"
   ]
  },
  {
   "cell_type": "markdown",
   "metadata": {},
   "source": [
    "## Criando um novo assistente utilizando um arquivo para realizar file_search\n",
    "\n",
    "1. Primeiro devemos incluir um arquivo dentro da openai\n",
    "2. Depois devemos criar um vector stores\n",
    "4. Agora vamos criar o assistente"
   ]
  },
  {
   "cell_type": "code",
   "execution_count": 16,
   "metadata": {},
   "outputs": [],
   "source": [
    "# Incluindo arquivo dentro da openai\n",
    "\n",
    "file = open(\"dissertacao.pdf\", \"rb\")\n",
    "open_ai_file = client.files.create(file=file, purpose=\"assistants\")"
   ]
  },
  {
   "cell_type": "markdown",
   "metadata": {},
   "source": [
    "**vector_stores:** É um auxiliar para criar um armazenamento de vetores com file_ids e anexá-lo a este assistente. Pode haver no máximo 1 armazenamento de vetores anexado ao assistente."
   ]
  },
  {
   "cell_type": "code",
   "execution_count": 17,
   "metadata": {},
   "outputs": [],
   "source": [
    "\n",
    "# Criando um assistente com acesso ao vector store criado\n",
    "my_assistant = client.beta.assistants.create(\n",
    "    instructions=\"Você é um estudante de mestrado que completou sua tese e deve responder perguntas sobre ela. A tese se encontra no arquivo dissertacao.pdf.\",\n",
    "    name=\"Store owner\",\n",
    "    tools=[{\"type\": \"file_search\"}],\n",
    "    tool_resources={\"file_search\": {\"vector_stores\": [{\"file_ids\": [open_ai_file.id]}]}},\n",
    "    model=\"gpt-3.5-turbo\"\n",
    ")"
   ]
  },
  {
   "cell_type": "markdown",
   "metadata": {},
   "source": [
    "## Testes com o assistente criado\n",
    "\n",
    "\n",
    "Vamos usar o stream utilizado no tutorial para que o resultado apresentado pelo assistente apareça de forma iterativa.\n",
    "\n",
    "1. Crie uma thread\n",
    "2. Crie uma mensagem e a coloque na thread\n",
    "2. Defina um EventHandler\n",
    "3. Interaja com o assistente"
   ]
  },
  {
   "cell_type": "code",
   "execution_count": 19,
   "metadata": {},
   "outputs": [],
   "source": [
    "# criando uma thread para o assistente\n",
    "thread = client.beta.threads.create()"
   ]
  },
  {
   "cell_type": "code",
   "execution_count": 20,
   "metadata": {},
   "outputs": [],
   "source": [
    "# criando uma mensagem\n",
    "message = client.beta.threads.messages.create(\n",
    "  thread_id=thread.id,\n",
    "  role=\"user\",\n",
    "  content=\"Quais os resultados obtidos na tese?\"\n",
    ")"
   ]
  },
  {
   "cell_type": "code",
   "execution_count": 7,
   "metadata": {},
   "outputs": [],
   "source": [
    "from typing_extensions import override\n",
    "from openai import AssistantEventHandler\n",
    " \n",
    " \n",
    "class EventHandler(AssistantEventHandler):    \n",
    "  @override\n",
    "  def on_text_created(self, text) -> None:\n",
    "    print(\"\\nassistant > \", end=\"\", flush=True)\n",
    "      \n",
    "  @override\n",
    "  def on_text_delta(self, delta, snapshot):\n",
    "    print(delta.value, end=\"\", flush=True)\n",
    "      \n",
    "  def on_tool_call_created(self, tool_call):\n",
    "    print(f\"\\nassistant > {tool_call.type}\\n\", flush=True)\n",
    "  \n",
    "  def on_tool_call_delta(self, delta, snapshot):\n",
    "    if delta.type == 'code_interpreter':\n",
    "      if delta.code_interpreter.input:\n",
    "        print(delta.code_interpreter.input, end=\"\", flush=True)\n",
    "      if delta.code_interpreter.outputs:\n",
    "        print(\"\\n\\noutput >\", flush=True)\n",
    "        for output in delta.code_interpreter.outputs:\n",
    "          if output.type == \"logs\":\n",
    "            print(f\"\\n{output.logs}\", flush=True)\n",
    " \n"
   ]
  },
  {
   "cell_type": "code",
   "execution_count": 21,
   "metadata": {},
   "outputs": [
    {
     "name": "stdout",
     "output_type": "stream",
     "text": [
      "\n",
      "assistant > file_search\n",
      "\n",
      "\n",
      "assistant > Os resultados obtidos na tese demonstraram que a inclusão das redes especialistas na pipeline de segmentação resultou em melhorias nos valores médios de coeficiente Dice (DSC) e Índice de Jaccard (IoU), bem como nas métricas de distância média e HD95. Isso evidenciou que a utilização das redes especialistas aprimorou a segmentação das estruturas propostas. Além disso, a votação majoritária se mostrou vantajosa, especialmente ao verificar as métricas de distâncias, destacando-se o HD95, demonstrando uma menor discrepância em relação à segmentação de referência. Portanto, a votação majoritária pode ser considerada vantajosa para melhorar a precisão na segmentação de imagens【4:0†source】.\n",
      "\n",
      "A análise dos resultados das distâncias µSD e HD95 para as predições realizadas pelas redes generalistas mostrou que a arquitetura Unet obteve os melhores resultados médios para as estruturas avaliadas. Observou-se que a Unet teve um desempenho ligeiramente superior em relação às outras arquiteturas, apresentando menos erros de segmentação evidentes em comparação com as redes Vnet e HR3N. No geral, as arquiteturas tiveram desempenho semelhante, mas a Unet se destacou com resultados ligeiramente melhores【4:1†source】.\n",
      "\n",
      "Além disso, a métrica µSD apresentou melhorias em todas as arquiteturas com o uso de redes especialistas, sendo a arquitetura Unet a que obteve os melhores resultados nessa métrica. Já em relação à métrica de distância de Hausdorff (HD95), observou-se que houve melhorias em todas as classes com o uso de redes especialistas, destacando-se a arquitetura Unet com melhorias significativas na segmentação do cerebelo. A votação majoritária entre as três redes superou quaisquer outras estratégias em todas as classes, tanto na métrica µSD quanto na métrica HD95, mostrando que essa abordagem melhora a estrutura geral da predição ao combinar os resultados obtidos pelas redes【4:2†source】."
     ]
    }
   ],
   "source": [
    "with client.beta.threads.runs.stream(\n",
    "  thread_id=thread.id,\n",
    "  assistant_id=my_assistant.id,\n",
    "  event_handler=EventHandler(),\n",
    ") as stream:\n",
    "  stream.until_done()"
   ]
  },
  {
   "cell_type": "markdown",
   "metadata": {},
   "source": [
    "## Criando um novo assistente utilizando um arquivo para realizar code_interpreter\n",
    "\n",
    "1. Primeiro devemos incluir um arquivo dentro da openai\n",
    "2. Depois devemos criar um vector stores\n",
    "4. Agora vamos criar o assistente"
   ]
  },
  {
   "cell_type": "code",
   "execution_count": 30,
   "metadata": {},
   "outputs": [],
   "source": [
    "# Incluindo arquivo dentro da openai\n",
    "\n",
    "file = open(\"item_store.csv\", \"rb\")\n",
    "open_ai_file = client.files.create(file=file, purpose=\"assistants\")"
   ]
  },
  {
   "cell_type": "code",
   "execution_count": 31,
   "metadata": {},
   "outputs": [],
   "source": [
    "# Criando um assistente com acesso ao vector store criado\n",
    "my_assistant = client.beta.assistants.create(\n",
    "    instructions=\"Você é dono de uma loja que tem os itens listados no arquivo item_store.csv. Você deve responder perguntas sobre os itens da loja. O arquivo é do tipo csv.\",\n",
    "    name=\"Store owner\",\n",
    "    tools=[{\"type\": \"code_interpreter\"}],\n",
    "    tool_resources={\"code_interpreter\": {\"file_ids\": [open_ai_file.id]}},\n",
    "    model=\"gpt-3.5-turbo\"\n",
    ")"
   ]
  },
  {
   "cell_type": "code",
   "execution_count": 32,
   "metadata": {},
   "outputs": [],
   "source": [
    "# criando uma thread para o assistente\n",
    "thread = client.beta.threads.create()\n",
    "\n",
    "# criando uma mensagem\n",
    "message = client.beta.threads.messages.create(\n",
    "  thread_id=thread.id,\n",
    "  role=\"user\",\n",
    "  content=\"Quais os vegetais disponíveis na loja?\"\n",
    ")"
   ]
  },
  {
   "cell_type": "code",
   "execution_count": 33,
   "metadata": {},
   "outputs": [
    {
     "name": "stdout",
     "output_type": "stream",
     "text": [
      "\n",
      "assistant > code_interpreter\n",
      "\n",
      "import pandas as pd\n",
      "\n",
      "# Carregar o arquivo CSV\n",
      "df = pd.read_csv('/mnt/data/file-ZmHqVTZQUQvuxyjxdcWvAyhm')\n",
      "\n",
      "# Filtrar apenas os itens que são vegetais\n",
      "vegetais = df[df['category'] == 'vegetable']['item'].unique()\n",
      "vegetais\n",
      "assistant > Parece que houve um erro ao tentar acessar a coluna 'category' no arquivo. Vou verificar a estrutura do arquivo para entender como podemos corrigir isso.# Verificar as primeiras linhas do arquivo para entender sua estrutura\n",
      "df.head()\n",
      "assistant > O arquivo tem as seguintes colunas: 'ItemID', 'Name', 'Category', 'Price' e 'Stock'. Vou corrigir a filtragem dos vegetais e listar os vegetais disponíveis na loja.# Filtrar apenas os itens que são vegetais\n",
      "vegetais = df[df['Category'] == 'Vegetal']['Name'].unique()\n",
      "vegetais\n",
      "assistant > Os vegetais disponíveis na loja são: Brócolis e Cenoura."
     ]
    }
   ],
   "source": [
    "with client.beta.threads.runs.stream(\n",
    "  thread_id=thread.id,\n",
    "  assistant_id=my_assistant.id,\n",
    "  event_handler=EventHandler(),\n",
    ") as stream:\n",
    "  stream.until_done()"
   ]
  },
  {
   "cell_type": "code",
   "execution_count": 34,
   "metadata": {},
   "outputs": [],
   "source": [
    "message = client.beta.threads.messages.create(\n",
    "  thread_id=thread.id,\n",
    "  role=\"user\",\n",
    "  content=\"Quais os preços desses vegetais\"\n",
    ")"
   ]
  },
  {
   "cell_type": "code",
   "execution_count": 35,
   "metadata": {},
   "outputs": [
    {
     "name": "stdout",
     "output_type": "stream",
     "text": [
      "\n",
      "assistant > code_interpreter\n",
      "\n",
      "# Filtrar os preços dos vegetais\n",
      "precos_vegetais = df[df['Category'] == 'Vegetal'][['Name', 'Price']]\n",
      "precos_vegetais\n",
      "assistant > Os preços dos vegetais disponíveis na loja são:\n",
      "\n",
      "- Brócolis: R$ 1,20\n",
      "- Cenoura: R$ 0,90"
     ]
    }
   ],
   "source": [
    "with client.beta.threads.runs.stream(\n",
    "  thread_id=thread.id,\n",
    "  assistant_id=my_assistant.id,\n",
    "  event_handler=EventHandler(),\n",
    ") as stream:\n",
    "  stream.until_done()"
   ]
  },
  {
   "cell_type": "code",
   "execution_count": null,
   "metadata": {},
   "outputs": [],
   "source": []
  }
 ],
 "metadata": {
  "kernelspec": {
   "display_name": "venv",
   "language": "python",
   "name": "python3"
  },
  "language_info": {
   "codemirror_mode": {
    "name": "ipython",
    "version": 3
   },
   "file_extension": ".py",
   "mimetype": "text/x-python",
   "name": "python",
   "nbconvert_exporter": "python",
   "pygments_lexer": "ipython3",
   "version": "3.10.0"
  }
 },
 "nbformat": 4,
 "nbformat_minor": 2
}
