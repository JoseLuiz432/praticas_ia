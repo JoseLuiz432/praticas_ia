{
 "cells": [
  {
   "cell_type": "markdown",
   "metadata": {},
   "source": [
    "# Aula prática - Integrando com a Assistant API\n",
    "\n",
    "## Tópicos da aula\n",
    "\n",
    "1. **Criando uma conta na OpenAI e gerando um token de acesso**\n",
    "   \n",
    "   Antes de começar a usar a OpenAI Assistant API, é necessário criar uma conta na plataforma OpenAI e gerar um token de acesso para autenticação.\n",
    "\n",
    "2. **Usando o ChatGPT com Python**\n",
    "   \n",
    "   O ChatGPT é um dos modelos disponíveis na OpenAI que pode ser acessado via API para interação de linguagem natural. Aqui, veremos como usar o ChatGPT para iniciar conversas e obter respostas usando Python.\n",
    "\n",
    "    - Intalação da biblioteca da openai\n",
    "\n",
    "3. **Assistant API:**\n",
    "\n",
    "    - **O que é a Assistant API?**\n",
    "      \n",
    "      A Assistant API é uma interface fornecida pela OpenAI que permite integrar modelos avançados de linguagem, como o ChatGPT, em aplicativos e serviços.\n",
    "      \n",
    "    - **Conectando com a API**\n",
    "      \n",
    "      Explicaremos como estabelecer uma conexão com a Assistant API utilizando bibliotecas Python como requests ou aiohttp para enviar solicitações HTTP.\n",
    "      \n",
    "    - **Usando na prática**\n",
    "      \n",
    "      Demonstraremos exemplos práticos de como enviar solicitações para a Assistant API, como iniciar uma sessão de conversação, enviar mensagens de texto para o modelo e receber as respostas retornadas pela API."
   ]
  },
  {
   "cell_type": "markdown",
   "metadata": {},
   "source": [
    "## Criando uma conta na OpenAI e uma chave de API\n",
    "\n",
    "1. Acesse [OpenAI](https://platform.openai.com/docs/overview) e clique em 'Sign up'.\n",
    "   \n",
    "2. Complete o processo de criação de conta na OpenAI.\n",
    "\n",
    "3. Faça login na sua conta recém-criada.\n",
    "\n",
    "4. No painel principal, vá para 'Settings' (Configurações) 🔧.\n",
    "\n",
    "5. Clique em '+ Create Project' para criar um novo projeto, se necessário.\n",
    "\n",
    "6. Vá para o 'Dashboard' (Painel principal) para acessar o seu painel de controle.\n",
    "\n",
    "7. No menu lateral, selecione 'API Keys' (Chaves de API).\n",
    "\n",
    "8. Clique em '+ Create new secret key' para gerar uma nova chave de API secreta.\n",
    "\n",
    "\n",
    "Como a maioria de vocês já terá uma conta na openai e consequentemente o valor \"disponibilizado\" de maneira gratuíta pela openai as novas contas já expirado, vou disponibilizar uma chave de api para a minha conta, essa chave será inativada quando os custos chegarem a $5 dolares e deve ser utilizada para somente colocar em prática essas aulas. Essa chave não terá a permissão de fazer fine tunning nem de usar outros modelos a não ser o 3.5-turbo.\n",
    "\n"
   ]
  },
  {
   "cell_type": "markdown",
   "metadata": {},
   "source": [
    "## Criando uma venv no windows\n",
    "\n",
    "1. Abra o **powershell como administrador** e execute o comando:\n",
    "```powershell\n",
    "$ Set-ExecutionPolicy Unrestricted\n",
    "```\n",
    "2. Abra um terminal dentro do projeto onde se encontra o notebook (.ipynb)\n",
    "3. Execute o comando (verifique a versão do python esse notebook de exemplo está sendo executado em python 3.11)\n",
    "```bash\n",
    "$ python -m venv venv\n",
    "```\n",
    "4. Ative a venv\n",
    "```bash\n",
    "$ & venv/Scripts/Activate.ps1\n",
    "```\n"
   ]
  },
  {
   "cell_type": "markdown",
   "metadata": {},
   "source": [
    "## Usando OpenAI com python\n",
    "\n",
    "Esses passos podem ser encontrados no [QuickStart da OpenAI](https://platform.openai.com/docs/quickstart)\n",
    "\n",
    "1. Setting up Python\n",
    "    - Instalar a OpenAI library:\n",
    "    ```Bash\n",
    "        $ python -m pip install openai\n",
    "    ```\n",
    "2. Set up a chave de API\n",
    "\n",
    "    - Crie um arquivo com o nome '.env' e adicione a variável OPENAI_API_KEY=\\<sua chave de api\\>\n",
    "    - Instale o python-dotenv\n",
    "    ```Bash\n",
    "        $ python -m pip install python-dotenv\n",
    "    ```\n",
    "3. Fazendo a sua primeira conexão"
   ]
  },
  {
   "cell_type": "code",
   "execution_count": null,
   "metadata": {},
   "outputs": [],
   "source": [
    "from openai import OpenAI\n",
    "import dotenv\n",
    "import os\n",
    "\n",
    "dotenv.load_dotenv()\n",
    "\n",
    "token = os.getenv(\"OPENAI_API_KEY\")\n",
    "client = OpenAI(api_key=token)\n"
   ]
  },
  {
   "cell_type": "code",
   "execution_count": 3,
   "metadata": {},
   "outputs": [
    {
     "name": "stdout",
     "output_type": "stream",
     "text": [
      "ChatCompletionMessage(content='A Inteligência Artificial (IA) Generativa é um ramo da IA que se concentra na criação de modelos capazes de gerar novos dados, como imagens, vídeos, texto, música e outros tipos de conteúdo. Esses modelos usam algoritmos de aprendizado de máquina para aprender a partir de um conjunto de dados de treinamento e, em seguida, são capazes de gerar novos exemplos com base nesse aprendizado.\\n\\nOs modelos de IA generativa são frequentemente usados em várias aplicações criativas, como geração automática de arte, produção de música e criação de personagens virtuais. Eles também são usados em campos como design de produtos, criação de jogos e geração de conteúdo para redes sociais.\\n\\nAlguns dos modelos de IA generativa mais populares incluem Redes Generativas Adversariais (GANs), Redes Neurais Recorrentes (RNNs) e Redes Neurais Convolucionais (CNNs). Esses modelos têm demonstrado habilidades impressionantes na geração de conteúdo realista e original, e continuam a evoluir com o avanço da tecnologia e das técnicas de aprendizado de máquina.', role='assistant', function_call=None, tool_calls=None)\n"
     ]
    }
   ],
   "source": [
    "# Primeira conexão, outros modelos podem ser encontrados em: \n",
    "\n",
    "completion = client.chat.completions.create(\n",
    "  model=\"gpt-3.5-turbo\",\n",
    "  messages=[\n",
    "    {\"role\": \"system\", \"content\": \"Você é um especialista em IA Generativa\"},\n",
    "    {\"role\": \"user\", \"content\": \"Fale sobre o que é IA Generativa\"}\n",
    "  ]\n",
    ")\n",
    "\n",
    "print(completion.choices[0].message.content)"
   ]
  },
  {
   "cell_type": "markdown",
   "metadata": {},
   "source": [
    "## Assistant API\n",
    "\n",
    "A API Assistants permite que você crie assistentes de IA em seus próprios aplicativos. Um Assistente possui instruções e pode aproveitar modelos, ferramentas e arquivos para responder às dúvidas dos usuários. A API Assistants atualmente oferece suporte a três tipos de ferramentas: intérprete de código, pesquisa de arquivos e chamada de função.\n",
    "\n",
    "Uma tipica integração do assistant api segue o seguinte fluxo:\n",
    "1. Criar um assistente utilizando a api.\n",
    "    - Escolha o modelo que será utilizado\n",
    "    - Defina as instruções desse assistente\n",
    "    - Adicione, se necessário, arquivos ou funções (mais tarde iremos trabalhar com esses arquivos e funções)\n",
    "2. Crie uma thread para o usuário interagir com esse assistente\n",
    "3. Adicione mensagens a essa thread\n",
    "4. Rode o assistente na thread"
   ]
  },
  {
   "cell_type": "markdown",
   "metadata": {},
   "source": [
    "### Criando um assistente\n",
    "\n",
    "A [Documentacao](https://platform.openai.com/docs/api-reference/assistants/createAssistant?lang=python) traz maior detalhe sobre cada um dos atributos que podem ser incluídos na criação de um novo assistente."
   ]
  },
  {
   "cell_type": "code",
   "execution_count": 8,
   "metadata": {},
   "outputs": [],
   "source": [
    "assistant = client.beta.assistants.create(\n",
    "  name=\"Professor de Programação.\",\n",
    "  instructions=\"Você é um professor de programação que ajuda os alunos a aprender a programar.\" + \\\n",
    "    \"Você pode responder a perguntas sobre programação, explicar conceitos de programação e ajudar os alunos a resolver problemas de programação.\",\n",
    "  tools=[{\"type\": \"code_interpreter\"}],\n",
    "  model=\"gpt-3.5-turbo\",\n",
    ")"
   ]
  },
  {
   "cell_type": "markdown",
   "metadata": {},
   "source": [
    "### Crie um thread\n",
    "Uma thread deve ser criada para que exista uma interação entre o usuário e um dos assistentes criados.\n",
    "\n",
    "\"Uma Thread representa uma conversa entre um usuário e um ou mais assistentes. Você pode criar um Thread quando um usuário (ou seu aplicativo de IA) inicia uma conversa com seu Assistente.\""
   ]
  },
  {
   "cell_type": "code",
   "execution_count": 5,
   "metadata": {},
   "outputs": [
    {
     "data": {
      "text/plain": [
       "Thread(id='thread_icuwulwNrMIe9vm5W738Mlt9', created_at=1719683738, metadata={}, object='thread', tool_resources=ToolResources(code_interpreter=None, file_search=None))"
      ]
     },
     "execution_count": 5,
     "metadata": {},
     "output_type": "execute_result"
    }
   ],
   "source": [
    "thread = client.beta.threads.create()\n",
    "thread"
   ]
  },
  {
   "cell_type": "markdown",
   "metadata": {},
   "source": [
    "### Adicionar uma mensagem na thread\n",
    "\n",
    "O conteúdo das mensagens criadas por seus usuários ou aplicativos é adicionado como objetos **Message** ao Thread. As mensagens podem conter texto e arquivos. Não há limite para o número de mensagens que você pode adicionar aos Threads."
   ]
  },
  {
   "cell_type": "code",
   "execution_count": 6,
   "metadata": {},
   "outputs": [],
   "source": [
    "message = client.beta.threads.messages.create(\n",
    "  thread_id=thread.id,\n",
    "  role=\"user\",\n",
    "  content=\"Como criar um código em Python para somar dois números?\"\n",
    ")"
   ]
  },
  {
   "cell_type": "markdown",
   "metadata": {},
   "source": [
    "### Rode o assistent na thread\n",
    "\n",
    "Depois que todas as mensagens do usuário forem adicionadas ao Thread, você poderá executar o Thread com qualquer Assistente. A criação de uma execução usa o modelo e as ferramentas associadas ao Assistente para gerar uma resposta. Essas respostas são adicionadas ao tópico como mensagens assistentes."
   ]
  },
  {
   "cell_type": "code",
   "execution_count": 9,
   "metadata": {},
   "outputs": [],
   "source": [
    "run = client.beta.threads.runs.create_and_poll(\n",
    "  thread_id=thread.id,\n",
    "  assistant_id=assistant.id,\n",
    ")"
   ]
  },
  {
   "cell_type": "code",
   "execution_count": 34,
   "metadata": {},
   "outputs": [
    {
     "data": {
      "text/markdown": [
       "**user:**"
      ],
      "text/plain": [
       "<IPython.core.display.Markdown object>"
      ]
     },
     "metadata": {},
     "output_type": "display_data"
    },
    {
     "data": {
      "text/markdown": [
       "Como criar um código em Python para somar dois números?"
      ],
      "text/plain": [
       "<IPython.core.display.Markdown object>"
      ]
     },
     "metadata": {},
     "output_type": "display_data"
    },
    {
     "data": {
      "text/markdown": [
       "**assistant:**"
      ],
      "text/plain": [
       "<IPython.core.display.Markdown object>"
      ]
     },
     "metadata": {},
     "output_type": "display_data"
    },
    {
     "data": {
      "text/markdown": [
       "Para criar um código em Python que soma dois números, você pode simplesmente usar o operador de adição (+). Aqui está um exemplo simples de como fazer isso:\n",
       "\n",
       "```python\n",
       "# Definindo os dois números a serem somados\n",
       "num1 = 10\n",
       "num2 = 20\n",
       "\n",
       "# Somando os dois números\n",
       "soma = num1 + num2\n",
       "\n",
       "# Exibindo o resultado\n",
       "print(\"A soma de\", num1, \"e\", num2, \"é igual a:\", soma)\n",
       "```\n",
       "\n",
       "Neste exemplo, os números 10 e 20 são somados e o resultado é exibido na tela. Você pode executar este código em qualquer ambiente Python para ver a soma dos dois números. Se quiser, posso executar este código aqui para você."
      ],
      "text/plain": [
       "<IPython.core.display.Markdown object>"
      ]
     },
     "metadata": {},
     "output_type": "display_data"
    }
   ],
   "source": [
    "from IPython.display import display, Markdown\n",
    "\n",
    "if run.status == 'completed': \n",
    "  messages = client.beta.threads.messages.list(thread_id=thread.id)\n",
    "  \n",
    "  # Print the messages reversed so that the most recent message is shown first\n",
    "  for message in reversed(messages.data):\n",
    "    display(Markdown(f\"**{message.role}:**\"))\n",
    "    display(Markdown(f\"{message.content[0].text.value}\"))\n",
    "else:\n",
    "  print(run.status)"
   ]
  },
  {
   "cell_type": "markdown",
   "metadata": {},
   "source": [
    "## Próxima Aula\n",
    "\n",
    "Na próxima aula, exploraremos como utilizar a Assistant API com arquivos e funções. Abordaremos:\n",
    "\n",
    "- Como enviar arquivos para a API\n",
    "- Como processar respostas da API em diferentes formatos de arquivo\n",
    "- Exemplos práticos de funções que interagem com a API\n"
   ]
  },
  {
   "cell_type": "code",
   "execution_count": null,
   "metadata": {},
   "outputs": [],
   "source": []
  }
 ],
 "metadata": {
  "kernelspec": {
   "display_name": "venv",
   "language": "python",
   "name": "python3"
  },
  "language_info": {
   "codemirror_mode": {
    "name": "ipython",
    "version": 3
   },
   "file_extension": ".py",
   "mimetype": "text/x-python",
   "name": "python",
   "nbconvert_exporter": "python",
   "pygments_lexer": "ipython3",
   "version": "3.10.0rc2"
  }
 },
 "nbformat": 4,
 "nbformat_minor": 2
}
